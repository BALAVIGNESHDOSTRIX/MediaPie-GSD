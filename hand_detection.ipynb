{
 "cells": [
  {
   "cell_type": "code",
   "execution_count": 1,
   "id": "132a8f15",
   "metadata": {},
   "outputs": [],
   "source": [
    "# pip install mediapipe opencv-python"
   ]
  },
  {
   "cell_type": "code",
   "execution_count": 2,
   "id": "149b38ed",
   "metadata": {},
   "outputs": [],
   "source": [
    "import mediapipe as mp\n",
    "import numpy as np \n",
    "import cv2\n",
    "import uuid, os"
   ]
  },
  {
   "cell_type": "code",
   "execution_count": 3,
   "id": "1050f78e",
   "metadata": {},
   "outputs": [],
   "source": [
    "draw_util = mp.solutions.drawing_utils\n",
    "draw_hand = mp.solutions.hands"
   ]
  },
  {
   "cell_type": "code",
   "execution_count": 4,
   "id": "2f02df30",
   "metadata": {},
   "outputs": [],
   "source": [
    "# # Capturing the Video\n",
    "\n",
    "# with draw_hand.Hands(min_detection_confidence=0.8, min_tracking_confidence=0.5) as hands:\n",
    "#     captureObj = cv2.VideoCapture(0)\n",
    "#     while captureObj.isOpened:\n",
    "#         ret, frame = captureObj.read()\n",
    "        \n",
    "#         #Detections\n",
    "#         image = cv2.cvtColor(frame, cv2.COLOR_BGR2RGB)\n",
    "        \n",
    "#         #set flag to false\n",
    "#         image = cv2.flip(image, 1)\n",
    "#         image.flags.writeable = False\n",
    "#         results = hands.process(image)\n",
    "#         image = cv2.cvtColor(image, cv2.COLOR_RGB2BGR)\n",
    "#         image.flags.writeable = True\n",
    "        \n",
    "# #         print(results)\n",
    "\n",
    "#         if results.multi_hand_landmarks:\n",
    "#             for index, hand in enumerate(results.multi_hand_landmarks):\n",
    "#                 draw_util.draw_landmarks(image, hand, draw_hand.HAND_CONNECTIONS, \n",
    "#                                         draw_util.DrawingSpec(color=(122, 22, 76), thickness=2, circle_radius=3),\n",
    "#                                         draw_util.DrawingSpec(color=(250, 44, 250), thickness=2, circle_radius=3))\n",
    "                \n",
    "#         cv2.imshow('Hand Tracking', image)\n",
    "\n",
    "#         if cv2.waitKey(1) & 0xFF == ord('q'):\n",
    "#             break\n",
    "        \n",
    "# captureObj.release()\n",
    "# cv2.destroyAllWindows()"
   ]
  },
  {
   "cell_type": "code",
   "execution_count": null,
   "id": "f1f687f6",
   "metadata": {},
   "outputs": [],
   "source": [
    "# print(results.multi_handedness)"
   ]
  },
  {
   "cell_type": "code",
   "execution_count": 4,
   "id": "680d4864",
   "metadata": {},
   "outputs": [],
   "source": [
    "def get_label_cord(hand, results):\n",
    "    if results.multi_handedness:\n",
    "        result = results.multi_handedness[0].classification[0]\n",
    "        text = \"{lab} - {scr}\".format(lab=result.label, scr=round(result.score, 2))\n",
    "        coords = tuple(np.multiply(\n",
    "                        np.array((hand.landmark[draw_hand.HandLandmark.WRIST].x, \n",
    "                        hand.landmark[draw_hand.HandLandmark.WRIST].y)), \n",
    "                        [640, 480]).astype(int))\n",
    "        return text, coords"
   ]
  },
  {
   "cell_type": "code",
   "execution_count": null,
   "id": "1e601095",
   "metadata": {},
   "outputs": [],
   "source": [
    "# print(get_label_cord(index, hand, results))"
   ]
  },
  {
   "cell_type": "code",
   "execution_count": 5,
   "id": "a06b1cdf",
   "metadata": {},
   "outputs": [],
   "source": [
    "# sample 2\n",
    "\n",
    "# Capturing the Video\n",
    "\n",
    "with draw_hand.Hands(min_detection_confidence=0.8, min_tracking_confidence=0.5) as hands:\n",
    "    captureObj = cv2.VideoCapture(0)\n",
    "    while captureObj.isOpened:\n",
    "        ret, frame = captureObj.read()\n",
    "        \n",
    "        #Detections\n",
    "        image = cv2.cvtColor(frame, cv2.COLOR_BGR2RGB)\n",
    "        \n",
    "        #set flag to false\n",
    "        image = cv2.flip(image, 1)\n",
    "        image.flags.writeable = False\n",
    "        results = hands.process(image)\n",
    "        image = cv2.cvtColor(image, cv2.COLOR_RGB2BGR)\n",
    "        image.flags.writeable = True\n",
    "        \n",
    "#         print(results)\n",
    "\n",
    "        if results.multi_hand_landmarks:\n",
    "            for index, hand in enumerate(results.multi_hand_landmarks):\n",
    "                draw_util.draw_landmarks(image, hand, draw_hand.HAND_CONNECTIONS, \n",
    "                                        draw_util.DrawingSpec(color=(122, 22, 76), thickness=2, circle_radius=3),\n",
    "                                        draw_util.DrawingSpec(color=(250, 44, 250), thickness=2, circle_radius=3))\n",
    "                \n",
    "                get_info = get_label_cord(hand, results)\n",
    "                if get_info:\n",
    "                    text, coords = get_info\n",
    "                    cv2.putText(image, text, coords, cv2.FONT_HERSHEY_SIMPLEX, 1, (255,255,255), 2, cv2.LINE_AA)\n",
    "                \n",
    "        cv2.imshow('Hand Tracking', image)\n",
    "\n",
    "        if cv2.waitKey(1) & 0xFF == ord('q'):\n",
    "            break\n",
    "        \n",
    "captureObj.release()\n",
    "cv2.destroyAllWindows()"
   ]
  },
  {
   "cell_type": "code",
   "execution_count": null,
   "id": "a178dab0",
   "metadata": {},
   "outputs": [],
   "source": []
  }
 ],
 "metadata": {
  "kernelspec": {
   "display_name": "Python 3",
   "language": "python",
   "name": "python3"
  },
  "language_info": {
   "codemirror_mode": {
    "name": "ipython",
    "version": 3
   },
   "file_extension": ".py",
   "mimetype": "text/x-python",
   "name": "python",
   "nbconvert_exporter": "python",
   "pygments_lexer": "ipython3",
   "version": "3.8.8"
  }
 },
 "nbformat": 4,
 "nbformat_minor": 5
}
